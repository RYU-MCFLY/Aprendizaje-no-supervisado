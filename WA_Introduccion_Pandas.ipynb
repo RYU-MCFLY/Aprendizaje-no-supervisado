{
  "nbformat": 4,
  "nbformat_minor": 0,
  "metadata": {
    "kernelspec": {
      "display_name": "Python 3",
      "language": "python",
      "name": "python3"
    },
    "language_info": {
      "codemirror_mode": {
        "name": "ipython",
        "version": 3
      },
      "file_extension": ".py",
      "mimetype": "text/x-python",
      "name": "python",
      "nbconvert_exporter": "python",
      "pygments_lexer": "ipython3",
      "version": "3.8.2"
    },
    "colab": {
      "name": "WA_Introduccion_Pandas.ipynb",
      "provenance": [],
      "collapsed_sections": [],
      "include_colab_link": true
    }
  },
  "cells": [
    {
      "cell_type": "markdown",
      "metadata": {
        "id": "view-in-github",
        "colab_type": "text"
      },
      "source": [
        "<a href=\"https://colab.research.google.com/github/RYU-MCFLY/Aprendizaje-no-supervisado/blob/main/WA_Introduccion_Pandas.ipynb\" target=\"_parent\"><img src=\"https://colab.research.google.com/assets/colab-badge.svg\" alt=\"Open In Colab\"/></a>"
      ]
    },
    {
      "cell_type": "markdown",
      "metadata": {
        "id": "adseiWLy7PYO"
      },
      "source": [
        "# Introducción a Pandas\n",
        "\n"
      ]
    },
    {
      "cell_type": "markdown",
      "metadata": {
        "id": "kSbu8IHu7PYP"
      },
      "source": [
        "[*Pandas*](http://pandas.pydata.org/) Es una librería de python para análisis de datos estructuradas en columnas y renglones, muy popular para manipulación, análisis y preprocesamiento  en columnas, ideal para manipular y analizar datos de entrada. Además, *Pandas* se integra muy bien con otras librerías de Ciencia de Datos, de manera que usualmente los algoritmos de machine learning reciben como entradas las dos principales estructuras de *Pandas*: los `DataFrames` y las `Series`\n",
        "\n",
        "\n"
      ]
    },
    {
      "cell_type": "markdown",
      "metadata": {
        "id": "D-BI53di7ka4"
      },
      "source": [
        "# Objetos de Pandas"
      ]
    },
    {
      "cell_type": "code",
      "metadata": {
        "collapsed": true,
        "id": "doYYmf_J7ka5"
      },
      "source": [
        "import numpy as np\n",
        "import pandas as pd"
      ],
      "execution_count": null,
      "outputs": []
    },
    {
      "cell_type": "markdown",
      "metadata": {
        "id": "zCH13FTY7ka5"
      },
      "source": [
        "## Series\n",
        "\n",
        "Las series son equivalentes a los vectores de NumPy.\n",
        "\n",
        "Pueden crearse a partir de listas o vectores."
      ]
    },
    {
      "cell_type": "code",
      "metadata": {
        "id": "fFpx7n6k7ka6"
      },
      "source": [
        "c = ['rojo', 'verde', 'azul', 'amarillo']\n",
        "colores = pd.Series(c)\n",
        "colores"
      ],
      "execution_count": null,
      "outputs": []
    },
    {
      "cell_type": "code",
      "metadata": {
        "id": "0ATXKbQa9S0I"
      },
      "source": [
        "p = np.array([0.2, 0.4, 0.8, 1])\n",
        "porcentajes = pd.Series(p)\n",
        "porcentajes"
      ],
      "execution_count": null,
      "outputs": []
    },
    {
      "cell_type": "markdown",
      "metadata": {
        "id": "hFr7D4FP7ka6"
      },
      "source": [
        "Una serie consta de los valores y de los índices y se puede acceder a ellos con los atributos  ``values`` e ``index``.\n",
        "\n",
        "Los valores son un vector de NumPy"
      ]
    },
    {
      "cell_type": "code",
      "metadata": {
        "id": "ZaGM1KYs9ssK"
      },
      "source": [
        "porcentajes.values"
      ],
      "execution_count": null,
      "outputs": []
    },
    {
      "cell_type": "code",
      "metadata": {
        "id": "RFObnlt8wL9r"
      },
      "source": [
        "colores.values"
      ],
      "execution_count": null,
      "outputs": []
    },
    {
      "cell_type": "code",
      "metadata": {
        "id": "sQ8PEcKf7ka7"
      },
      "source": [
        "porcentajes.index"
      ],
      "execution_count": null,
      "outputs": []
    },
    {
      "cell_type": "markdown",
      "metadata": {
        "id": "OgaC5vdo7ka7"
      },
      "source": [
        "Como en un vector de numpy, usamos los indices par obtener un subconjunto de elementos."
      ]
    },
    {
      "cell_type": "code",
      "metadata": {
        "id": "4PLXYcIs7ka8"
      },
      "source": [
        "porcentajes[1]"
      ],
      "execution_count": null,
      "outputs": []
    },
    {
      "cell_type": "code",
      "metadata": {
        "id": "LIKTzoKt7ka8"
      },
      "source": [
        "porcentajes[1:3]"
      ],
      "execution_count": null,
      "outputs": []
    },
    {
      "cell_type": "markdown",
      "metadata": {
        "id": "qsHFdLLp7ka9"
      },
      "source": [
        "Los objetos ``Series`` tienen la ventaja sobre los vectores de numpy que permite definir indices asociados a los valores, y pueden ser de cualquier tipo por ejemplo:"
      ]
    },
    {
      "cell_type": "code",
      "metadata": {
        "id": "mdZ_Tm3r7ka9"
      },
      "source": [
        "nivel_color = pd.Series( p,   # toma el objeto p (puede ser lista o vector)\n",
        "                 index=c)    # asigna como índice el objeto c (lista o vector)\n",
        "nivel_color"
      ],
      "execution_count": null,
      "outputs": []
    },
    {
      "cell_type": "code",
      "metadata": {
        "id": "KPfhFIgoAEdb"
      },
      "source": [
        "nivel_color.values"
      ],
      "execution_count": null,
      "outputs": []
    },
    {
      "cell_type": "code",
      "metadata": {
        "id": "4kH1DyhR7ka-"
      },
      "source": [
        "nivel_color['azul']         # Nos recuerda el uso de los diccionarios"
      ],
      "execution_count": null,
      "outputs": []
    },
    {
      "cell_type": "markdown",
      "metadata": {
        "id": "IpFMjOAl7ka_"
      },
      "source": [
        "### Series son también como diccionarios\n",
        "\n"
      ]
    },
    {
      "cell_type": "code",
      "metadata": {
        "id": "W0Pds4sD7ka_"
      },
      "source": [
        "#diccionario con la población en 2020 para estados seleccionados\n",
        "\n",
        "poblacion_dict = {'Aguascalientes': 1425607\t,\n",
        "                   'Guanajuato': 6166934,\n",
        "                   'Jalisco': 8348151\t,\n",
        "                   'CDMX': 9209944,\n",
        "                   'Querétaro': 2368467}\n",
        "\n",
        "pob = pd.Series(poblacion_dict)\n",
        "pob"
      ],
      "execution_count": null,
      "outputs": []
    },
    {
      "cell_type": "code",
      "metadata": {
        "id": "mlTM45pL7ka_"
      },
      "source": [
        "pob['CDMX']"
      ],
      "execution_count": null,
      "outputs": []
    },
    {
      "cell_type": "markdown",
      "metadata": {
        "id": "udW5W2037kbA"
      },
      "source": [
        "Con la ventaja de que podemos seleccionar una parte de los datos"
      ]
    },
    {
      "cell_type": "code",
      "metadata": {
        "id": "YFAHh_yK7kbA"
      },
      "source": [
        "pob['Aguascalientes':'CDMX']"
      ],
      "execution_count": null,
      "outputs": []
    },
    {
      "cell_type": "code",
      "metadata": {
        "id": "4UUNsrMsxmdZ"
      },
      "source": [
        "pob.iloc[3]"
      ],
      "execution_count": null,
      "outputs": []
    },
    {
      "cell_type": "markdown",
      "metadata": {
        "id": "H3p6Bzta-GTL"
      },
      "source": [
        "lo que no es posible hacer con los diccionarios"
      ]
    },
    {
      "cell_type": "code",
      "metadata": {
        "id": "lJoiJyhK9-W9"
      },
      "source": [
        "poblacion_dict['Aguascalientes':'CDMX']  "
      ],
      "execution_count": null,
      "outputs": []
    },
    {
      "cell_type": "markdown",
      "metadata": {
        "id": "cxKpHzkv7kbA"
      },
      "source": [
        "### Más ejemplos de series"
      ]
    },
    {
      "cell_type": "code",
      "metadata": {
        "id": "nXeQtvd17kbB"
      },
      "source": [
        "pd.Series([2, 4, 6])"
      ],
      "execution_count": null,
      "outputs": []
    },
    {
      "cell_type": "code",
      "metadata": {
        "id": "7mCvH23G7kbB"
      },
      "source": [
        "pd.Series(14, index=[150, 220, 380])"
      ],
      "execution_count": null,
      "outputs": []
    },
    {
      "cell_type": "code",
      "metadata": {
        "id": "XahFl4c37kbC"
      },
      "source": [
        "pd.Series({2:'a', 1:'b', 3:'c'})"
      ],
      "execution_count": null,
      "outputs": []
    },
    {
      "cell_type": "markdown",
      "metadata": {
        "id": "wK1S09KY7kbD"
      },
      "source": [
        "##  DataFrame \n",
        "\n",
        "Igual que las ```Series```, un ```DataFrame``` se puede entender como una matriz de NumPy o como un diccionario, con ventajas adicionales"
      ]
    },
    {
      "cell_type": "code",
      "metadata": {
        "id": "rfIhG9EH7kbE"
      },
      "source": [
        "hombres_dic = {'Guanajuato': 2996454,'Aguascalientes': 696683\t,  \n",
        "               'Jalisco':4098455 , 'CDMX': 4404927, 'Querétaro': 1156820,\n",
        "               }"
      ],
      "execution_count": null,
      "outputs": []
    },
    {
      "cell_type": "code",
      "metadata": {
        "id": "AcDL-biaBd-t"
      },
      "source": [
        "pd.DataFrame({'total': poblacion_dict,'hombres': hombres_dic}) # A partir de dos diccionarios"
      ],
      "execution_count": null,
      "outputs": []
    },
    {
      "cell_type": "markdown",
      "metadata": {
        "id": "sXXaPicaBjy6"
      },
      "source": [
        "guardamos el DataFrame con el nombre poblacion"
      ]
    },
    {
      "cell_type": "code",
      "metadata": {
        "id": "nItZodNl_jFg"
      },
      "source": [
        "poblacion = pd.DataFrame({'total': poblacion_dict,'hombres': hombres_dic}) \n",
        "poblacion"
      ],
      "execution_count": null,
      "outputs": []
    },
    {
      "cell_type": "markdown",
      "metadata": {
        "id": "Uud4X0hG7kbF"
      },
      "source": [
        "Un  ``DataFrame`` tiene además de los atributos ``values`` e ``index``, el atributo ``columns`` que es un índice que contiene las etiquetas de cada columna."
      ]
    },
    {
      "cell_type": "code",
      "metadata": {
        "id": "y7DTWCkaC4W8"
      },
      "source": [
        "poblacion.values   "
      ],
      "execution_count": null,
      "outputs": []
    },
    {
      "cell_type": "code",
      "metadata": {
        "id": "8tVP5zk4DMyK"
      },
      "source": [
        "poblacion.index"
      ],
      "execution_count": null,
      "outputs": []
    },
    {
      "cell_type": "code",
      "metadata": {
        "id": "WZWNi1P_7kbF"
      },
      "source": [
        "poblacion.columns"
      ],
      "execution_count": null,
      "outputs": []
    },
    {
      "cell_type": "markdown",
      "metadata": {
        "id": "2WVEvdRM7kbG"
      },
      "source": [
        "Los DataFrame son también una especie de diccionario donde las columnas actuan como claves\n"
      ]
    },
    {
      "cell_type": "code",
      "metadata": {
        "id": "tAz_MI5H7kbG"
      },
      "source": [
        "poblacion['total']"
      ],
      "execution_count": null,
      "outputs": []
    },
    {
      "cell_type": "markdown",
      "metadata": {
        "id": "kfkKq5KVJJ4T"
      },
      "source": [
        "pero no el índice (como ocurre para las Series)"
      ]
    },
    {
      "cell_type": "code",
      "metadata": {
        "id": "ubHtvLAhJEy0"
      },
      "source": [
        "poblacion['Guanajuato']"
      ],
      "execution_count": null,
      "outputs": []
    },
    {
      "cell_type": "markdown",
      "metadata": {
        "id": "FjASuaB-dIbs"
      },
      "source": [
        "al igual que los diccionarios, podemos agregar nuevas claves , y al igual que en NumPy podemos hacer opercion de vectores sin necesidad de recurrir a ciclos for"
      ]
    },
    {
      "cell_type": "code",
      "metadata": {
        "id": "SuB18igpc-SW"
      },
      "source": [
        "poblacion['mujeres'] = poblacion['total'] - poblacion['hombres']\n",
        "poblacion"
      ],
      "execution_count": null,
      "outputs": []
    },
    {
      "cell_type": "markdown",
      "metadata": {
        "id": "EtACFikw7kbG"
      },
      "source": [
        "### Creación de dataframes a partir de distintos objetos\n",
        "\n"
      ]
    },
    {
      "cell_type": "markdown",
      "metadata": {
        "id": "LnSZ--Ds7kbG"
      },
      "source": [
        "#### Desde una o varias series"
      ]
    },
    {
      "cell_type": "code",
      "metadata": {
        "id": "7yZjbO2yzvFu"
      },
      "source": [
        "pob"
      ],
      "execution_count": null,
      "outputs": []
    },
    {
      "cell_type": "code",
      "metadata": {
        "id": "dnS5p3b77kbH"
      },
      "source": [
        "pd.DataFrame(pob, columns=['poblacion'])"
      ],
      "execution_count": null,
      "outputs": []
    },
    {
      "cell_type": "markdown",
      "metadata": {
        "id": "cFnAcZbKY0qS"
      },
      "source": [
        "#### Desde una diccionario"
      ]
    },
    {
      "cell_type": "code",
      "metadata": {
        "id": "_iGfArlW7kbH"
      },
      "source": [
        "dimensiones = [{'longitud': i, 'área': i*i} for i in range(5)]\n",
        "pd.DataFrame(dimensiones)"
      ],
      "execution_count": null,
      "outputs": []
    },
    {
      "cell_type": "markdown",
      "metadata": {
        "id": "p1OeJ5hj7kbJ"
      },
      "source": [
        "#### Desde una matriz de NumPy\n"
      ]
    },
    {
      "cell_type": "code",
      "metadata": {
        "id": "e3ZQAaur7kbJ"
      },
      "source": [
        "pd.DataFrame(np.random.rand(5, 3),\n",
        "             columns=['columna1', 'columna2','columna3'],\n",
        "             index=['a', 'b', 'c', 'd', 'e']\n",
        "             )"
      ],
      "execution_count": null,
      "outputs": []
    },
    {
      "cell_type": "markdown",
      "metadata": {
        "id": "xyjiUgMedjcs"
      },
      "source": [
        "## Lectura de archivos csv como DataFrames"
      ]
    },
    {
      "cell_type": "code",
      "metadata": {
        "id": "U_ZrQaiD7PYQ"
      },
      "source": [
        "#Leer datos mediante la función csv\n",
        "\n",
        "titanic = pd.read_csv( \"https://web.stanford.edu/class/archive/cs/cs109/cs109.1166/stuff/titanic.csv\")\n",
        "type(titanic)"
      ],
      "execution_count": null,
      "outputs": []
    },
    {
      "cell_type": "code",
      "metadata": {
        "id": "W8i3NniA7PYR"
      },
      "source": [
        "titanic"
      ],
      "execution_count": null,
      "outputs": []
    },
    {
      "cell_type": "code",
      "metadata": {
        "id": "lu0Fh_3d1DFY"
      },
      "source": [
        "titanic = titanic.reset_index()"
      ],
      "execution_count": null,
      "outputs": []
    },
    {
      "cell_type": "code",
      "metadata": {
        "id": "JX0CQobE7PYR"
      },
      "source": [
        "titanic = titanic.set_index([\"Name\"])\n",
        "titanic.head(10)"
      ],
      "execution_count": null,
      "outputs": []
    },
    {
      "cell_type": "code",
      "metadata": {
        "id": "xR7tYKnr7PYR"
      },
      "source": [
        "titanic.columns\n"
      ],
      "execution_count": null,
      "outputs": []
    },
    {
      "cell_type": "code",
      "metadata": {
        "id": "agBU06Fk7PYS"
      },
      "source": [
        "titanic.index"
      ],
      "execution_count": null,
      "outputs": []
    },
    {
      "cell_type": "code",
      "metadata": {
        "id": "XYEetM7Y7PYS"
      },
      "source": [
        "## Una sola columna del datafreme es una Serie\n",
        "\n",
        "edad = titanic['Age']\n",
        "type(edad)"
      ],
      "execution_count": null,
      "outputs": []
    },
    {
      "cell_type": "code",
      "metadata": {
        "id": "-_OSQ1pu7PYS"
      },
      "source": [
        "edad"
      ],
      "execution_count": null,
      "outputs": []
    },
    {
      "cell_type": "markdown",
      "metadata": {
        "id": "45lYapX97PYT"
      },
      "source": [
        "## Funciones, métodos y atributos .\n"
      ]
    },
    {
      "cell_type": "code",
      "metadata": {
        "id": "_nb_mQeT7PYU"
      },
      "source": [
        "titanic.info()  #regresa el numero de renglones, el número de columnas, los nombres de las columnas, \n",
        "                #la cantidad de datos faltanes, la clase de cada variable"
      ],
      "execution_count": null,
      "outputs": []
    },
    {
      "cell_type": "code",
      "metadata": {
        "id": "GQ2W81287PYU"
      },
      "source": [
        "titanic.describe()  "
      ],
      "execution_count": null,
      "outputs": []
    },
    {
      "cell_type": "code",
      "metadata": {
        "id": "kXnUvJRK7PYU"
      },
      "source": [
        "#ver la cantidad de renglones y de columnas utilizando el atributo shape\n",
        "print('dimensiones: ', titanic.shape)\n",
        "print('\\nrenglones: ', titanic.shape[0])\n",
        "print('columnas:  ', titanic.shape[1])"
      ],
      "execution_count": null,
      "outputs": []
    },
    {
      "cell_type": "code",
      "metadata": {
        "id": "azfm3siq7PYU"
      },
      "source": [
        "type(titanic.shape)"
      ],
      "execution_count": null,
      "outputs": []
    },
    {
      "cell_type": "code",
      "metadata": {
        "id": "sBpAUUha7PYV"
      },
      "source": [
        "#regresa el número de valores en cada variable \n",
        "titanic.nunique()  "
      ],
      "execution_count": null,
      "outputs": []
    },
    {
      "cell_type": "code",
      "metadata": {
        "id": "zK6HxgRo7PYV"
      },
      "source": [
        "titanic.columns"
      ],
      "execution_count": null,
      "outputs": []
    },
    {
      "cell_type": "markdown",
      "metadata": {
        "id": "Of70gt0uFxmc"
      },
      "source": [
        "Para conocer la distribución y los valores de cada columna utilizamos el método value_counts() que es un método para Series"
      ]
    },
    {
      "cell_type": "code",
      "metadata": {
        "id": "O3uxjnABGG2D"
      },
      "source": [
        "titanic['Sex'].value_counts()"
      ],
      "execution_count": null,
      "outputs": []
    },
    {
      "cell_type": "markdown",
      "metadata": {
        "id": "Ko0ZhsHCGYKT"
      },
      "source": [
        "Para hacer lo anterior con cada columna del data frame podemos iterar por cada una de las columnas"
      ]
    },
    {
      "cell_type": "code",
      "metadata": {
        "id": "MLp6rQjq7PYV"
      },
      "source": [
        "for column in titanic.columns:\n",
        "    print(titanic[column].value_counts(),'\\n')   \n",
        "    "
      ],
      "execution_count": null,
      "outputs": []
    },
    {
      "cell_type": "markdown",
      "metadata": {
        "id": "BXI8jjvw7PYV"
      },
      "source": [
        "## Métodos para resumir en un solo valor información\n",
        "\n",
        "Producen un único valor relacionado con los datos a los que se aplica. Si no se especifica otra cosa se Pandas lo aplica resumiendo los valores de cada columna de un dataframe, si se quiere resumir las variables de cada renglón, se deberá especificar axis=1 entre los paréntesis.\n",
        "\n"
      ]
    },
    {
      "cell_type": "code",
      "metadata": {
        "id": "snxMjEre7PYW"
      },
      "source": [
        "titanic.mean()"
      ],
      "execution_count": null,
      "outputs": []
    },
    {
      "cell_type": "code",
      "metadata": {
        "id": "-fLqZsPi7PYW"
      },
      "source": [
        "titanic.count()"
      ],
      "execution_count": null,
      "outputs": []
    },
    {
      "cell_type": "code",
      "metadata": {
        "id": "jz8q4Phq7PYW"
      },
      "source": [
        "titanic.isnull()"
      ],
      "execution_count": null,
      "outputs": []
    },
    {
      "cell_type": "code",
      "metadata": {
        "id": "8sAAw0iA7PYW"
      },
      "source": [
        "titanic.isnull().sum()"
      ],
      "execution_count": null,
      "outputs": []
    },
    {
      "cell_type": "code",
      "metadata": {
        "id": "LJ2C2_tRfkzl"
      },
      "source": [
        "print('\\n',titanic.isnull().sum(axis=1))"
      ],
      "execution_count": null,
      "outputs": []
    },
    {
      "cell_type": "markdown",
      "metadata": {
        "id": "72gL6URq7PYX"
      },
      "source": [
        "## Acceso a los datos usando etiquetas o posiciones"
      ]
    },
    {
      "cell_type": "markdown",
      "metadata": {
        "id": "Lc34WYpd7PYX"
      },
      "source": [
        "Acceso a los datos utilizando etiquetas de las columnas\n",
        "\n",
        "Las siguientes expresiones son equivalentes:\n",
        "- titanic['Age'] \n",
        "- titanic.Age  \n",
        "\n",
        "En la segunda forma, se asume que cada columna es un atributo del DataFrame"
      ]
    },
    {
      "cell_type": "code",
      "metadata": {
        "id": "zZNEs6Dz7PYX"
      },
      "source": [
        "print(type(titanic['Age']), '\\n')\n",
        "titanic['Age'] "
      ],
      "execution_count": null,
      "outputs": []
    },
    {
      "cell_type": "code",
      "metadata": {
        "id": "yK0bDrYBK0F8"
      },
      "source": [
        "print(type(titanic.Age), '\\n')\n",
        "titanic.Age"
      ],
      "execution_count": null,
      "outputs": []
    },
    {
      "cell_type": "markdown",
      "metadata": {
        "id": "WlH5Gcp8NPpa"
      },
      "source": [
        "podemos llamar a dos o más columnas juntas, agrupandolas en una lista"
      ]
    },
    {
      "cell_type": "code",
      "metadata": {
        "id": "OGZb8jP-NOeK"
      },
      "source": [
        "titanic[['Survived','Sex','Age']]"
      ],
      "execution_count": null,
      "outputs": []
    },
    {
      "cell_type": "markdown",
      "metadata": {
        "id": "iO7nK54cJoCq"
      },
      "source": [
        "Para los renglones, hemos dicho que no se puede usar el índice como si fuera la clave de un diccionario"
      ]
    },
    {
      "cell_type": "code",
      "metadata": {
        "id": "uBnoCpF53tPA"
      },
      "source": [
        "titanic.index"
      ],
      "execution_count": null,
      "outputs": []
    },
    {
      "cell_type": "code",
      "metadata": {
        "id": "Q5EbZvEEJzLa"
      },
      "source": [
        "titanic.iloc[0:15,3:]"
      ],
      "execution_count": null,
      "outputs": []
    },
    {
      "cell_type": "markdown",
      "metadata": {
        "id": "Lkequ5-zMCrg"
      },
      "source": [
        "### Propiedad **`loc[]`** \n",
        "\n",
        "Se utiliza **`df.loc[renglones:columnas]`**  para tener acceso a los datos usando etiquetas"
      ]
    },
    {
      "cell_type": "markdown",
      "metadata": {
        "id": "txjm85kcLW27"
      },
      "source": [
        "Podemos utilizar esta propiedad de los DataFrames para llamar a un solo renglón"
      ]
    },
    {
      "cell_type": "code",
      "metadata": {
        "id": "-hXj9n6i7PYY"
      },
      "source": [
        "titanic.loc['Miss. Laina Heikkinen']  "
      ],
      "execution_count": null,
      "outputs": []
    },
    {
      "cell_type": "markdown",
      "metadata": {
        "id": "x9UBROtxM0cl"
      },
      "source": [
        "O varios renglones, agrupandolos en una lista"
      ]
    },
    {
      "cell_type": "code",
      "metadata": {
        "id": "annalItzM686"
      },
      "source": [
        "titanic.loc[['Miss. Laina Heikkinen','Mr. Timothy J McCarthy']]  "
      ],
      "execution_count": null,
      "outputs": []
    },
    {
      "cell_type": "markdown",
      "metadata": {
        "id": "PTBfkMOFN6sT"
      },
      "source": [
        "o un grupo de renglones y columnas"
      ]
    },
    {
      "cell_type": "code",
      "metadata": {
        "id": "cVu3NDtWNkhr"
      },
      "source": [
        "titanic.loc[['Miss. Laina Heikkinen','Mr. Timothy J McCarthy'], ['Survived','Age']]"
      ],
      "execution_count": null,
      "outputs": []
    },
    {
      "cell_type": "markdown",
      "metadata": {
        "id": "KUNE35WxOHMh"
      },
      "source": [
        "o utilizar '*slicing*'"
      ]
    },
    {
      "cell_type": "code",
      "metadata": {
        "id": "irbs-FKB7PYZ"
      },
      "source": [
        "titanic.loc['Miss. Laina Heikkinen':'Mr. Timothy J McCarthy', 'Survived':'Age']  "
      ],
      "execution_count": null,
      "outputs": []
    },
    {
      "cell_type": "code",
      "metadata": {
        "id": "oBfGpZFr7PYZ"
      },
      "source": [
        "titanic.loc[:,'Age']"
      ],
      "execution_count": null,
      "outputs": []
    },
    {
      "cell_type": "markdown",
      "metadata": {
        "id": "q_IAXNwR7PYZ"
      },
      "source": [
        "### Propiedad **`iloc[]`** para acceder mediante posiciones\n",
        "\n",
        "\n",
        "Se utiliza **`df.iloc[row, column]`**, para  usar las posiciones de un valor"
      ]
    },
    {
      "cell_type": "code",
      "metadata": {
        "id": "A3zohS5w7PYZ"
      },
      "source": [
        "titanic.iloc[15:22,3:5]  "
      ],
      "execution_count": null,
      "outputs": []
    },
    {
      "cell_type": "code",
      "metadata": {
        "id": "8ox3kVZQP8AD"
      },
      "source": [
        "titanic.iloc[[15,22],[3,5]]  "
      ],
      "execution_count": null,
      "outputs": []
    },
    {
      "cell_type": "markdown",
      "metadata": {
        "id": "xc02IHfH7PYa"
      },
      "source": [
        "## Filtrado de datos"
      ]
    },
    {
      "cell_type": "code",
      "metadata": {
        "id": "M-_7ip7b4dPN"
      },
      "source": [
        "titanic[titanic['Survived']==1]"
      ],
      "execution_count": null,
      "outputs": []
    },
    {
      "cell_type": "code",
      "metadata": {
        "id": "6gI3itvP7PYa"
      },
      "source": [
        "filtro = titanic['Pclass']==3\n",
        "\n",
        "tercera = titanic[filtro]\n",
        "tercera.head(10)"
      ],
      "execution_count": null,
      "outputs": []
    },
    {
      "cell_type": "code",
      "metadata": {
        "id": "Sh-BOEL67PYa"
      },
      "source": [
        "#Guarda el conjunto de datos que cumple la condición \n",
        "menores10anios = titanic[titanic['Age']<10]   \n",
        "print(menores10anios.shape)\n",
        "menores10anios.head()"
      ],
      "execution_count": null,
      "outputs": []
    },
    {
      "cell_type": "code",
      "metadata": {
        "id": "CJr3FXHG7PYa"
      },
      "source": [
        "hombres = titanic[titanic['Sex']=='male']\n",
        "print(hombres.shape)\n",
        "hombres.tail()"
      ],
      "execution_count": null,
      "outputs": []
    },
    {
      "cell_type": "code",
      "metadata": {
        "id": "uO4BQt807PYa"
      },
      "source": [
        "#Subconjunto de pasajeros de primera clase mujeres\n",
        "filtro1 = titanic['Pclass']==1\n",
        "filtro2 = titanic['Sex']=='female'\n",
        "\n",
        "MujeresPrimera = titanic[filtro1 & filtro2]\n",
        "\n",
        "print(MujeresPrimera.shape)\n",
        "MujeresPrimera.head()"
      ],
      "execution_count": null,
      "outputs": []
    },
    {
      "cell_type": "code",
      "metadata": {
        "id": "8sczFP3W5IDn"
      },
      "source": [
        "a = titanic[filtro1]"
      ],
      "execution_count": null,
      "outputs": []
    },
    {
      "cell_type": "markdown",
      "metadata": {
        "id": "X5qQZ8ky7PYa"
      },
      "source": [
        "## Recomendacion para programadores que inician su práctica.\n",
        "\n",
        "\n",
        "1. Escribe y ejecuta una sola linea de codigo para explorar tus datos\n",
        "2. Verifica su correcto funcionamiento, obteniendo el output de esa linea\n",
        "3. Asigna el resultad a una variable\n",
        "4. En la misma linea, muestra las primeras lineas del Data Frame o la Serie, según la acción ejecutada.\n",
        "5. Continua en la siguiente celda."
      ]
    }
  ]
}